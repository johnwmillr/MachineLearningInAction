{
 "cells": [
  {
   "cell_type": "markdown",
   "metadata": {},
   "source": [
    "**Follow the naive Bayes examples from chapter 4 of Harrington's *Machine Learning in Action* **"
   ]
  },
  {
   "cell_type": "markdown",
   "metadata": {},
   "source": [
    "**4.5.1** *Prepare: making word vectors from text*"
   ]
  },
  {
   "cell_type": "code",
   "execution_count": 30,
   "metadata": {
    "collapsed": true
   },
   "outputs": [],
   "source": [
    "from numpy import *"
   ]
  },
  {
   "cell_type": "code",
   "execution_count": 1,
   "metadata": {
    "collapsed": true
   },
   "outputs": [],
   "source": [
    "def loadDataSet():\n",
    "    postingList=['my dog has flea problems help please',\n",
    "                 'maybe not take him to dog park stupid',\n",
    "                 'my dalmation is so cute I love him',                 \n",
    "                 'you should stop posting stupid worthless garbage',\n",
    "                 'mr licks ate my steak how do I stop him',\n",
    "                 'quit buying worthless dog food stupid']\n",
    "    classVector = [0,1,0,1,0,1] # Class 1 is abusive, 0 is not\n",
    "    return [doc.split() for doc in postingList], classVector"
   ]
  },
  {
   "cell_type": "code",
   "execution_count": 2,
   "metadata": {
    "collapsed": true
   },
   "outputs": [],
   "source": [
    "def createVocabList(dataSet):\n",
    "    vocabSet = set([])\n",
    "    for doc in dataSet:\n",
    "        vocabSet = vocabSet | set(doc) # Create union of two sets (unique values only)\n",
    "    return list(vocabSet)"
   ]
  },
  {
   "cell_type": "code",
   "execution_count": 3,
   "metadata": {
    "collapsed": true
   },
   "outputs": [],
   "source": [
    "def setOfWords2Vec(vocabList, inputSet):\n",
    "    # Converts a list of words into a vector.\n",
    "    \n",
    "    # Each unique word (within our vocabulary) is a feature. So if we\n",
    "    # have N words in our vocabulary, the input sentence can be represented\n",
    "    # as a point in N-dimensional space. Sentences that use a similar\n",
    "    # vocabulary will cluster in this \"vocab space\"\n",
    "    \n",
    "    returnVec = [0]*len(vocabList)\n",
    "    for word in inputSet:\n",
    "        if word in vocabList:\n",
    "            returnVec[vocabList.index(word)] = 1\n",
    "        else: print(\"The word: %s is not in my vocabulary!\" % word)\n",
    "    return returnVec"
   ]
  },
  {
   "cell_type": "code",
   "execution_count": 5,
   "metadata": {
    "collapsed": true
   },
   "outputs": [],
   "source": [
    "posts, postClasses = loadDataSet()\n",
    "myVocabList = createVocabList(posts) # Returns each unique word contained within 'posts'\n"
   ]
  },
  {
   "cell_type": "code",
   "execution_count": 6,
   "metadata": {},
   "outputs": [
    {
     "name": "stdout",
     "output_type": "stream",
     "text": [
      "['cute', 'love', 'help', 'garbage', 'quit', 'I', 'problems', 'is', 'park', 'stop', 'flea', 'dalmation', 'licks', 'food', 'not', 'him', 'buying', 'posting', 'has', 'worthless', 'ate', 'to', 'maybe', 'please', 'dog', 'how', 'stupid', 'so', 'take', 'mr', 'steak', 'my']\n"
     ]
    }
   ],
   "source": [
    "print(myVocabList)"
   ]
  },
  {
   "cell_type": "code",
   "execution_count": 32,
   "metadata": {
    "collapsed": true
   },
   "outputs": [],
   "source": [
    "def trainNB0(trainMatrix,trainCategory):\n",
    "    n_trainDocs = len(trainMatrix)\n",
    "    n_words = len(trainMatrix[0])\n",
    "    pAbusive = sum(trainCategory)/float(n_trainDocs)\n",
    "    p0Num = ones(n_words); p1Num = ones(n_words)\n",
    "    p0Denom = 2.0; p1Denom = 2.0\n",
    "    for i in range(n_trainDocs):\n",
    "        if trainCategory[i] == 1:\n",
    "            p1Num += trainMatrix[i]\n",
    "            p1Denom += sum(trainMatrix[i])\n",
    "        else:\n",
    "            p0Num += trainMatrix[i]\n",
    "            p0Denom += sum(trainMatrix[i])\n",
    "    p1Vect = log(p1Num/p1Denom)\n",
    "    p0Vect = log(p0Num/p0Denom)\n",
    "    return p0Vect, p1Vect, pAbusive"
   ]
  },
  {
   "cell_type": "code",
   "execution_count": 9,
   "metadata": {
    "collapsed": true
   },
   "outputs": [],
   "source": [
    "# Create a training matrix by converting the forum post words to vectors\n",
    "posts, labels = loadDataSet()\n",
    "myVocabList = createVocabList(posts)\n",
    "trainMat = []\n",
    "for postInDoc in posts:\n",
    "    trainMat.append(setOfWords2Vec(myVocabList, postInDoc))"
   ]
  },
  {
   "cell_type": "code",
   "execution_count": 43,
   "metadata": {},
   "outputs": [],
   "source": [
    "def classifyNB(vecToClassify, p0Vec, p1Vec, pClass1):\n",
    "    p1 = sum(vecToClassify * p1Vec) + log(pClass1)\n",
    "    p0 = sum(vecToClassify * p0Vec) + log(1.0 - pClass1)\n",
    "    if p1 > p0:\n",
    "        return 1\n",
    "    else:\n",
    "        return 0   "
   ]
  },
  {
   "cell_type": "code",
   "execution_count": 81,
   "metadata": {},
   "outputs": [],
   "source": [
    "def testingNB():\n",
    "    posts, classes = loadDataSet()\n",
    "    myVocabList = createVocabList(posts)\n",
    "    trainMat = []\n",
    "    for postInDoc in posts:\n",
    "        trainMat.append(setOfWords2Vec(myVocabList, postInDoc))\n",
    "    p0V,p1V,pAb = trainNB0(array(trainMat), array(classes))\n",
    "    \n",
    "    # Supply some test values\n",
    "    classNames = ['Supportive','Abusive']\n",
    "    testEntry = 'love my dalmation'.split()\n",
    "    thisDoc = array(setOfWords2Vec(myVocabList, testEntry))\n",
    "    print(testEntry, 'classified as: ',\\\n",
    "          classNames[classifyNB(thisDoc,p0V,p1V,pAb)])\n",
    "    testEntry = 'dog is stupid garbage'.split()\n",
    "    thisDoc = array(setOfWords2Vec(myVocabList, testEntry))\n",
    "    print(testEntry, 'classified as: ',\\\n",
    "          classNames[classifyNB(thisDoc,p0V,p1V,pAb)])"
   ]
  },
  {
   "cell_type": "code",
   "execution_count": 82,
   "metadata": {},
   "outputs": [
    {
     "name": "stdout",
     "output_type": "stream",
     "text": [
      "(['love', 'my', 'dalmation'], 'classified as: ', 'Supportive')\n",
      "(['dog', 'is', 'stupid', 'garbage'], 'classified as: ', 'Abusive')\n"
     ]
    }
   ],
   "source": [
    "testingNB()"
   ]
  },
  {
   "cell_type": "markdown",
   "metadata": {},
   "source": [
    "**Reminder:**\n",
    "\n",
    "I should compare the performance (accuracy and efficiency) of the Naive Bayes classifier to the decision tree from chapter 3"
   ]
  },
  {
   "cell_type": "code",
   "execution_count": null,
   "metadata": {
    "collapsed": true
   },
   "outputs": [],
   "source": [
    "\n",
    "\n",
    "\n",
    "\n",
    "\n",
    "\n",
    "\n",
    "\n",
    "\n",
    "\n",
    "\n",
    "\n",
    "\n",
    "\n",
    "\n",
    "\n",
    "\n",
    "\n",
    "\n",
    "\n",
    "\n",
    "\n",
    "\n",
    "\n",
    "\n",
    "\n",
    "\n",
    "\n",
    "\n",
    "\n",
    "\n",
    "\n",
    "\n",
    "\n",
    "\n",
    "\n",
    "\n",
    "\n",
    "\n",
    "\n",
    "\n",
    "\n",
    "\n",
    "\n",
    "\n",
    "\n",
    "\n",
    "\n",
    "\n",
    "\n",
    "\n",
    "\n",
    "\n",
    "\n",
    "\n"
   ]
  }
 ],
 "metadata": {
  "kernelspec": {
   "display_name": "Python 2",
   "language": "python",
   "name": "python2"
  },
  "language_info": {
   "codemirror_mode": {
    "name": "ipython",
    "version": 2
   },
   "file_extension": ".py",
   "mimetype": "text/x-python",
   "name": "python",
   "nbconvert_exporter": "python",
   "pygments_lexer": "ipython2",
   "version": "2.7.13"
  }
 },
 "nbformat": 4,
 "nbformat_minor": 2
}
